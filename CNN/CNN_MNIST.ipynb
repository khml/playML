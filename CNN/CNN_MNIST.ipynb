{
  "nbformat": 4,
  "nbformat_minor": 0,
  "metadata": {
    "colab": {
      "name": "CNN_MNIST.ipynb",
      "version": "0.3.2",
      "provenance": []
    },
    "kernelspec": {
      "name": "python3",
      "display_name": "Python 3"
    },
    "accelerator": "TPU"
  },
  "cells": [
    {
      "metadata": {
        "id": "PJQbFB4Lo8WE",
        "colab_type": "text"
      },
      "cell_type": "markdown",
      "source": [
        "# Install PyTorch"
      ]
    },
    {
      "metadata": {
        "id": "31E-g4Kwjdn9",
        "colab_type": "code",
        "colab": {}
      },
      "cell_type": "code",
      "source": [
        "!pip install torch torchvision"
      ],
      "execution_count": 0,
      "outputs": []
    },
    {
      "metadata": {
        "id": "11o6hSS5pBSW",
        "colab_type": "text"
      },
      "cell_type": "markdown",
      "source": [
        "# import Libraries"
      ]
    },
    {
      "metadata": {
        "id": "ICLOmHe1jewM",
        "colab_type": "code",
        "colab": {}
      },
      "cell_type": "code",
      "source": [
        "import torch\n",
        "import torch.nn as nn\n",
        "import torch.nn.functional as F\n",
        "from torch import optim\n",
        "import torchvision\n",
        "import torchvision.transforms as transforms"
      ],
      "execution_count": 0,
      "outputs": []
    },
    {
      "metadata": {
        "id": "Tr3DgRe1pICr",
        "colab_type": "text"
      },
      "cell_type": "markdown",
      "source": [
        "# Dataset Preparation"
      ]
    },
    {
      "metadata": {
        "id": "5mcij8BPo4Kb",
        "colab_type": "code",
        "colab": {}
      },
      "cell_type": "code",
      "source": [
        "def get_mnist_data_loader():\n",
        "    transform = transforms.Compose([transforms.ToTensor(), transforms.Normalize((0.5,), (0.5,))])\n",
        "\n",
        "    trainset = torchvision.datasets.MNIST(root='./data', train=True, download=True, transform=transform)\n",
        "    testset = torchvision.datasets.MNIST(root='./data', train=False, download=True, transform=transform)\n",
        "    train_loader = torch.utils.data.DataLoader(trainset, batch_size=100, shuffle=True, num_workers=4)\n",
        "    test_loader = torch.utils.data.DataLoader(testset, batch_size=100, shuffle=False, num_workers=4)\n",
        "\n",
        "    return train_loader, test_loader\n"
      ],
      "execution_count": 0,
      "outputs": []
    },
    {
      "metadata": {
        "id": "79RFoSArpPKD",
        "colab_type": "text"
      },
      "cell_type": "markdown",
      "source": [
        "# define Model"
      ]
    },
    {
      "metadata": {
        "id": "48V0BdyDl98I",
        "colab_type": "code",
        "colab": {}
      },
      "cell_type": "code",
      "source": [
        "class CNN(nn.Module):\n",
        "    def __init__(self):\n",
        "        super(CNN, self).__init__()\n",
        "        self.conv1 = nn.Conv2d(1, 32, 3)  # (1, 28, 28)  -> (32, 26, 26)\n",
        "        self.conv2 = nn.Conv2d(32, 64, 3)  # (32, 26, 26) -> (64, 24, 24)\n",
        "        self.pool = nn.MaxPool2d(2, 2)  # (64, 24, 24) -> (64, 12, 12)\n",
        "        self.dropout1 = nn.Dropout2d()\n",
        "        self.fc1 = nn.Linear(12 * 12 * 64, 128)\n",
        "        self.dropout2 = nn.Dropout2d()\n",
        "        self.fc2 = nn.Linear(128, 10)\n",
        "\n",
        "    def forward(self, x):\n",
        "        x = F.relu(self.conv1(x))\n",
        "        x = self.pool(F.relu(self.conv2(x)))\n",
        "        x = self.dropout1(x)\n",
        "        x = x.view(-1, 12 * 12 * 64)\n",
        "        x = F.relu(self.fc1(x))\n",
        "        x = self.dropout2(x)\n",
        "        x = self.fc2(x)\n",
        "        return x"
      ],
      "execution_count": 0,
      "outputs": []
    },
    {
      "metadata": {
        "id": "V9esma40pcBW",
        "colab_type": "text"
      },
      "cell_type": "markdown",
      "source": [
        "# Training"
      ]
    },
    {
      "metadata": {
        "id": "S4OBTR8RmU1w",
        "colab_type": "code",
        "colab": {}
      },
      "cell_type": "code",
      "source": [
        "epoch_num = 10\n",
        "model = CNN()\n",
        "\n",
        "train_loader, test_loader = get_mnist_data_loader()\n",
        "\n",
        "criterion = nn.CrossEntropyLoss()\n",
        "optimizer = optim.SGD(model.parameters(), lr=0.005, momentum=0.9, nesterov=True)\n"
      ],
      "execution_count": 0,
      "outputs": []
    },
    {
      "metadata": {
        "id": "h-dA72PC-zWo",
        "colab_type": "code",
        "colab": {}
      },
      "cell_type": "code",
      "source": [
        "def train_model():\n",
        "    model.train()\n",
        "    running_loss = 0\n",
        "    for (inputs, labels) in train_loader:\n",
        "        optimizer.zero_grad()\n",
        "        outputs = model(inputs)\n",
        "        loss = criterion(outputs, labels)\n",
        "        loss.backward()\n",
        "        optimizer.step()\n",
        "        running_loss += loss.item()\n",
        "        #print(\"loss = {}\".format(loss.item()))\n",
        "    print(\"epoch total loss = {}\".format(running_loss))\n",
        "\n",
        "def eval_model():\n",
        "    model.eval()\n",
        "    with torch.no_grad():\n",
        "        error = 0\n",
        "        for (inputs, labels) in train_loader:\n",
        "            outputs = model(inputs)\n",
        "            loss = criterion(outputs, labels)\n",
        "            error += loss.item()\n",
        "        print(\"loss = {}\".format(error))"
      ],
      "execution_count": 0,
      "outputs": []
    },
    {
      "metadata": {
        "id": "f_Wz-Rly-5FD",
        "colab_type": "code",
        "colab": {
          "base_uri": "https://localhost:8080/",
          "height": 34
        },
        "outputId": "bb50aeee-01bf-401e-b438-defb2dab923a"
      },
      "cell_type": "code",
      "source": [
        "for epoch in range(epoch_num):\n",
        "    print(\"Epoch : {}\".format(epoch))\n",
        "    train_model()\n",
        "    eval_model()"
      ],
      "execution_count": 0,
      "outputs": [
        {
          "output_type": "stream",
          "text": [
            "Epoch : 0\n"
          ],
          "name": "stdout"
        }
      ]
    }
  ]
}